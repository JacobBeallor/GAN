{
  "nbformat": 4,
  "nbformat_minor": 0,
  "metadata": {
    "colab": {
      "name": "MNIST LSGAN.ipynb",
      "provenance": [],
      "collapsed_sections": [],
      "toc_visible": true
    },
    "kernelspec": {
      "name": "python3",
      "display_name": "Python 3"
    },
    "accelerator": "GPU"
  },
  "cells": [
    {
      "cell_type": "markdown",
      "metadata": {
        "id": "SCKifqkXwiy0",
        "colab_type": "text"
      },
      "source": [
        "# LSGAN for MNIST\n",
        "(Least squares GAN)"
      ]
    },
    {
      "cell_type": "code",
      "metadata": {
        "id": "zxUQVnnM7nqM",
        "colab_type": "code",
        "outputId": "4aee53d7-69bc-4d52-9c52-e5e999f7c073",
        "colab": {
          "base_uri": "https://localhost:8080/",
          "height": 34
        }
      },
      "source": [
        "%tensorflow_version 2.x\n",
        "import tensorflow as tf\n",
        "device_name = tf.test.gpu_device_name()\n",
        "if device_name != '/device:GPU:0':\n",
        "  raise SystemError('GPU device not found')\n",
        "print('Found GPU at: {}'.format(device_name))"
      ],
      "execution_count": 94,
      "outputs": [
        {
          "output_type": "stream",
          "text": [
            "Found GPU at: /device:GPU:0\n"
          ],
          "name": "stdout"
        }
      ]
    },
    {
      "cell_type": "code",
      "metadata": {
        "id": "GgiORkbk8dXC",
        "colab_type": "code",
        "colab": {}
      },
      "source": [
        "import numpy as np\n",
        "import matplotlib.pyplot as plt\n",
        "from tensorflow import GradientTape\n",
        "from tensorflow.keras import Sequential, Model, Input\n",
        "from tensorflow.keras.layers import Dense, BatchNormalization, LeakyReLU, Conv2DTranspose, Conv2D, Dropout, Flatten, Reshape, ReLU\n",
        "from tensorflow.keras.optimizers import Adam\n",
        "\n",
        "# !pip install imageio\n",
        "from IPython import display\n",
        "import time\n",
        "import glob\n",
        "import imageio\n",
        "import os\n",
        "import PIL"
      ],
      "execution_count": 0,
      "outputs": []
    },
    {
      "cell_type": "markdown",
      "metadata": {
        "id": "ZrHmbaSam_b2",
        "colab_type": "text"
      },
      "source": [
        "## Loading the dataset and setup"
      ]
    },
    {
      "cell_type": "code",
      "metadata": {
        "id": "23PrhVGf8YbQ",
        "colab_type": "code",
        "colab": {}
      },
      "source": [
        "def load_dataset(bufferSize, batchSize=128):\n",
        "  (trainIm, trainL), (_, _) = tf.keras.datasets.mnist.load_data()\n",
        "  trainIm = trainIm.reshape((trainIm.shape[0], 28, 28, 1)).astype('float32')\n",
        "  trainIm = (trainIm - 127.5) / 127.5 # rescale to [-1,1] range\n",
        "\n",
        "  trainDataset = tf.data.Dataset.from_tensor_slices(trainIm).shuffle(bufferSize).batch(batchSize)\n",
        "\n",
        "  return trainDataset"
      ],
      "execution_count": 0,
      "outputs": []
    },
    {
      "cell_type": "code",
      "metadata": {
        "id": "CvqqTR-hmkpp",
        "colab_type": "code",
        "colab": {}
      },
      "source": [
        "bufferSize = 60000\n",
        "batchSize = 128\n",
        "trainDataset = load_dataset(bufferSize, batchSize)\n",
        "\n",
        "latent_dim = 100 # size of input noise vector\n",
        "num_samples = 25 # number of samples to track generator progress\n",
        "seed = tf.random.normal([num_samples, latent_dim])\n",
        "\n",
        "genOpt = Adam(lr = 0.0002, beta_1 = 0.5) # generator optimizer\n",
        "disOpt = Adam(lr = 0.0002, beta_1 = 0.5) # discriminator optimizer"
      ],
      "execution_count": 0,
      "outputs": []
    },
    {
      "cell_type": "markdown",
      "metadata": {
        "id": "CyddygID0m8w",
        "colab_type": "text"
      },
      "source": [
        "## Defining the generator"
      ]
    },
    {
      "cell_type": "code",
      "metadata": {
        "id": "xaqupn08_GuM",
        "colab_type": "code",
        "colab": {}
      },
      "source": [
        "def buildGenerator():\n",
        "  init = tf.keras.initializers.RandomNormal(stddev=0.02)\n",
        "  input_noise = Input(shape = (latent_dim, ))\n",
        "\n",
        "  model = Dense(7*7*256, kernel_initializer=init)(input_noise)\n",
        "  model = BatchNormalization()(model)\n",
        "  model = ReLU()(model)\n",
        "\n",
        "  model = Reshape((7,7,256))(model)\n",
        "\n",
        "  model = Conv2DTranspose(128, kernel_size = (4,4), strides = (2,2), padding = 'same', kernel_initializer=init)(model)\n",
        "  model = BatchNormalization()(model)\n",
        "  model = ReLU()(model)\n",
        "\n",
        "  model = Conv2DTranspose(64, kernel_size = (4,4), strides = (2,2), padding = 'same', kernel_initializer=init)(model)\n",
        "  model = BatchNormalization()(model)\n",
        "  model = ReLU()(model)\n",
        "  # use tanh activation so pixel outputs are in [-1,1] range\n",
        "  output_layer = Conv2DTranspose(1, kernel_size = (7,7), activation='tanh', padding='same', kernel_initializer=init)(model) \n",
        "\n",
        "  generator = Model(input_noise, output_layer, name = 'Generator')\n",
        "  assert generator.output_shape == (None, 28, 28, 1)\n",
        "  \n",
        "  return generator"
      ],
      "execution_count": 0,
      "outputs": []
    },
    {
      "cell_type": "code",
      "metadata": {
        "id": "fs5knzRgPP1O",
        "colab_type": "code",
        "outputId": "91ea2e09-6659-4b54-a270-86a9a2037ab3",
        "colab": {
          "base_uri": "https://localhost:8080/",
          "height": 252
        }
      },
      "source": [
        "# Testing the generator\n",
        "test_generator = buildGenerator()\n",
        "\n",
        "noise = tf.random.normal([1, 100])\n",
        "generated_image = test_generator(noise, training = False)\n",
        "\n",
        "plt.imshow(generated_image[0, :, :, 0], cmap='gray')\n",
        "plt.xticks([])\n",
        "plt.yticks([])\n",
        "plt.show()"
      ],
      "execution_count": 99,
      "outputs": [
        {
          "output_type": "display_data",
          "data": {
            "image/png": "[encoded data removed]",
            "text/plain": [
              "<Figure size 432x288 with 1 Axes>"
            ]
          },
          "metadata": {
            "tags": []
          }
        }
      ]
    },
    {
      "cell_type": "markdown",
      "metadata": {
        "id": "8rECFzIL0vzd",
        "colab_type": "text"
      },
      "source": [
        "## Defining the discriminator"
      ]
    },
    {
      "cell_type": "code",
      "metadata": {
        "id": "d-IfZjjU_Zuu",
        "colab_type": "code",
        "colab": {}
      },
      "source": [
        "def buildDiscriminator():\n",
        "  init = tf.keras.initializers.RandomNormal(stddev=0.02)\n",
        "  input_image = Input(shape = (28,28,1))\n",
        "\n",
        "  model = Conv2D(64, (4,4), strides=(2, 2), padding='same', kernel_initializer=init)(input_image)\n",
        "  model = BatchNormalization()(model)\n",
        "  model = LeakyReLU(0.2)(model)\n",
        "  # model = Dropout(0.3)(model)\n",
        "\n",
        "  model = Conv2D(128, (4,4), strides=(2, 2), padding='same', kernel_initializer=init)(model)\n",
        "  model = BatchNormalization()(model)\n",
        "  model = LeakyReLU(0.2)(model)\n",
        "  # model = Dropout(0.3)(model)\n",
        "\n",
        "  model = Flatten()(model)\n",
        "  output_layer = Dense(1, activation='linear', kernel_initializer=init)(model)\n",
        "\n",
        "  discriminator = Model(input_image, output_layer, name = 'Discriminator')\n",
        "  \n",
        "  return discriminator"
      ],
      "execution_count": 0,
      "outputs": []
    },
    {
      "cell_type": "markdown",
      "metadata": {
        "id": "kihsl5S802JW",
        "colab_type": "text"
      },
      "source": [
        "## Create the loss functions"
      ]
    },
    {
      "cell_type": "code",
      "metadata": {
        "id": "jgRsOLcV_iri",
        "colab_type": "code",
        "colab": {}
      },
      "source": [
        "mse = tf.keras.losses.MeanSquaredError()\n",
        "\n",
        "def discriminatorLoss(real_output, fake_output):\n",
        "  # Mean squared error loss\n",
        "  real_loss = mse(tf.ones_like(real_output), real_output)\n",
        "  fake_loss = mse(tf.zeros_like(fake_output), fake_output)\n",
        "  total_loss = real_loss + fake_loss\n",
        "\n",
        "  pred_outputs = tf.concat([real_output, fake_output], axis = 0)\n",
        "  true_outputs = tf.concat([tf.ones_like(real_output), tf.zeros_like(fake_output)], axis = 0)\n",
        "  acc = tf.keras.metrics.binary_accuracy(tf.transpose(true_outputs), tf.transpose(pred_outputs), threshold = 0.5)\n",
        "\n",
        "  return total_loss, acc\n",
        "  \n",
        "def generatorLoss(fake_output):\n",
        "  gen_loss = mse(tf.ones_like(fake_output), fake_output)\n",
        "  \n",
        "  return gen_loss"
      ],
      "execution_count": 0,
      "outputs": []
    },
    {
      "cell_type": "code",
      "metadata": {
        "id": "clyRnBKzAXXH",
        "colab_type": "code",
        "colab": {}
      },
      "source": [
        "def progress_update(model, epoch, seed, genLosses, disLosses, disAcc):\n",
        "  generated_images = model(seed, training = False)\n",
        "  # plot generated images\n",
        "  plt.figure(figsize = (5,5))\n",
        "  for i in range(generated_images.shape[0]):\n",
        "      plt.subplot(5, 5, i+1)\n",
        "      plt.imshow(generated_images[i, :, :, 0]*127.5 + 127.5, cmap=plt.cm.binary)\n",
        "      plt.axis('off')\n",
        "\n",
        "  plt.savefig('imageAtEpoch{:04d}.png'.format(epoch))\n",
        "  plt.show()\n",
        "\n",
        "  plt.figure(figsize=(15,12))\n",
        "  epochs_idx = range(1, len(genLosses) + 1)\n",
        "  plt.subplot(2,1,1)\n",
        "  plt.plot(epochs_idx, genLosses, label = 'Generator loss')\n",
        "  plt.plot(epochs_idx, disLosses, label = 'Discriminator loss')\n",
        "  plt.xlabel('Epoch')\n",
        "  plt.legend(loc = 'best')\n",
        "\n",
        "  plt.subplot(2, 1, 2)\n",
        "  plt.plot(epochs_idx, disAcc, label = 'Discriminator acc.')\n",
        "  plt.xlabel('Epoch')\n",
        "  plt.legend(loc = 'best')\n",
        "\n",
        "  if epoch == epochs:\n",
        "    plt.savefig('lsgan_training_history.png')\n",
        "  plt.show()"
      ],
      "execution_count": 0,
      "outputs": []
    },
    {
      "cell_type": "markdown",
      "metadata": {
        "id": "c5dr3yjc1CBR",
        "colab_type": "text"
      },
      "source": [
        "## Create the training procedures"
      ]
    },
    {
      "cell_type": "code",
      "metadata": {
        "id": "CRQO3QTx_iku",
        "colab_type": "code",
        "colab": {}
      },
      "source": [
        "# @tf.function\n",
        "def trainStep(real_images):\n",
        "  noise_samples = tf.random.normal([batchSize, latent_dim])\n",
        "\n",
        "  with GradientTape() as genTape, GradientTape() as disTape:\n",
        "    # Generate fake images from noise samples\n",
        "    generated_images = generator(noise_samples, training = True)\n",
        "    # Use discriminator on real and fake images\n",
        "    realOutput = discriminator(real_images, training = True)\n",
        "    fakeOutput = discriminator(generated_images, training = True)\n",
        "    # compute losses\n",
        "    genLoss = generatorLoss(fakeOutput)\n",
        "    disLoss, disAcc = discriminatorLoss(realOutput, fakeOutput)\n",
        "  # compute gradients\n",
        "  gen_gradients = genTape.gradient(genLoss, generator.trainable_variables)\n",
        "  dis_gradients = disTape.gradient(disLoss, discriminator.trainable_variables)\n",
        "  # apply gradients\n",
        "  genOpt.apply_gradients(zip(gen_gradients, generator.trainable_variables))\n",
        "  disOpt.apply_gradients(zip(dis_gradients, discriminator.trainable_variables))\n",
        "\n",
        "  return genLoss, disLoss, disAcc"
      ],
      "execution_count": 0,
      "outputs": []
    },
    {
      "cell_type": "code",
      "metadata": {
        "id": "RMdA4gZW_ibr",
        "colab_type": "code",
        "colab": {}
      },
      "source": [
        "def train(dataset, epochs):\n",
        "  genLosses, disLosses, disAcc = [], [], []\n",
        "\n",
        "  for epoch in range(epochs):\n",
        "    start_time = time.time()\n",
        "    genLossEpoch = []\n",
        "    disLossEpoch = []\n",
        "    disAccEpoch = []\n",
        "\n",
        "    # iterate through image batches\n",
        "    for image_batch in dataset:\n",
        "      genLossBatch, disLossBatch, disAccBatch = trainStep(image_batch)\n",
        "      \n",
        "      genLossEpoch.append(genLossBatch)\n",
        "      disLossEpoch.append(disLossBatch)\n",
        "      disAccEpoch.append(disAccBatch)\n",
        "\n",
        "    genLosses.append(np.mean(genLossEpoch))\n",
        "    disLosses.append(np.mean(disLossEpoch))\n",
        "    disAcc.append(np.mean(disAccEpoch))\n",
        "\n",
        "    progress_update(generator, epoch + 1, seed, genLosses, disLosses, disAcc)  \n",
        "    print ('Time for epoch {} is {} sec'.format(epoch + 1, time.time()-start_time))\n",
        "    display.clear_output(wait = True)\n",
        "\n",
        "  # Generated images at end of training\n",
        "  display.clear_output(wait = True)\n",
        "  progress_update(generator, epochs, seed, genLosses, disLosses, disAcc)  \n",
        "\n",
        "  return genLosses[-1], disLosses[-1], disAcc[-1]"
      ],
      "execution_count": 0,
      "outputs": []
    },
    {
      "cell_type": "markdown",
      "metadata": {
        "id": "mB4rF1YT1QSl",
        "colab_type": "text"
      },
      "source": [
        "## Build it!"
      ]
    },
    {
      "cell_type": "code",
      "metadata": {
        "id": "M2I6hlne83Xn",
        "colab_type": "code",
        "outputId": "e163a594-d32b-4f86-d10b-ad4b5199d59a",
        "colab": {
          "base_uri": "https://localhost:8080/",
          "height": 1000
        }
      },
      "source": [
        "generator = buildGenerator()\n",
        "discriminator = buildDiscriminator()\n",
        "epochs = 100\n",
        "\n",
        "gLoss, dLoss, dAcc = train(trainDataset, epochs = epochs)\n",
        "print('Generator loss: {}\\nDiscriminator loss: {}'.format(gLoss, dLoss))\n",
        "\n",
        "# save generator model\n",
        "g_name = 'lsgan_generator_at_epoch_{:04d}.h5'.format(epochs)\n",
        "generator.save(g_name)\n",
        "\n",
        "# save discriminator model\n",
        "d_name = 'lsgan_discriminator_at_epoch_{:04d}.h5'.format(epochs)\n",
        "discriminator.save(d_name)"
      ],
      "execution_count": 105,
      "outputs": [
        {
          "output_type": "display_data",
          "data": {
            "image/png": "[encoded data removed]",
            "text/plain": [
              "<Figure size 360x360 with 25 Axes>"
            ]
          },
          "metadata": {
            "tags": []
          }
        },
        {
          "output_type": "display_data",
          "data": {
            "image/png": "[encoded data removed]",
            "text/plain": [
              "<Figure size 1080x864 with 2 Axes>"
            ]
          },
          "metadata": {
            "tags": []
          }
        },
        {
          "output_type": "stream",
          "text": [
            "Generator loss: 0.29561805725097656\n",
            "Discriminator loss: 0.4915241301059723\n",
            "WARNING:tensorflow:From /tensorflow-2.1.0/python3.6/tensorflow_core/python/ops/resource_variable_ops.py:1786: calling BaseResourceVariable.__init__ (from tensorflow.python.ops.resource_variable_ops) with constraint is deprecated and will be removed in a future version.\n",
            "Instructions for updating:\n",
            "If using Keras pass *_constraint arguments to layers.\n",
            "INFO:tensorflow:Assets written to: generator_at_epoch_0100/assets\n",
            "INFO:tensorflow:Assets written to: discriminator_at_epoch_0100/assets\n"
          ],
          "name": "stdout"
        }
      ]
    },
    {
      "cell_type": "markdown",
      "metadata": {
        "id": "1oMBNh891b8S",
        "colab_type": "text"
      },
      "source": [
        "## Create GIF of results"
      ]
    },
    {
      "cell_type": "code",
      "metadata": {
        "id": "8Gyd1G1yK5JF",
        "colab_type": "code",
        "colab": {
          "base_uri": "https://localhost:8080/",
          "height": 34
        },
        "outputId": "43217b6d-8b4a-4c2c-a0ad-d42cc201cff6"
      },
      "source": [
        "anim_file = 'LSGAN.gif'\n",
        "\n",
        "with imageio.get_writer(anim_file, mode='I') as writer:\n",
        "  filenames = glob.glob('image*.png')\n",
        "  filenames = sorted(filenames)\n",
        "  last = -1\n",
        "  for i,filename in enumerate(filenames):\n",
        "    if i % 4 == 0:\n",
        "      image = imageio.imread(filename)\n",
        "      writer.append_data(image)\n",
        "  image = imageio.imread(filename)\n",
        "  writer.append_data(image)\n",
        "\n",
        "import IPython\n",
        "if IPython.version_info > (6,2,0,''):\n",
        "  display.Image(filename=anim_file)\n",
        "else:\n",
        "  print('IPython version too old.')"
      ],
      "execution_count": 111,
      "outputs": [
        {
          "output_type": "stream",
          "text": [
            "IPython version too old.\n"
          ],
          "name": "stdout"
        }
      ]
    },
    {
      "cell_type": "code",
      "metadata": {
        "id": "IZf-b1_uZQmu",
        "colab_type": "code",
        "colab": {}
      },
      "source": [
        "try:\n",
        "  from google.colab import files\n",
        "except ImportError:\n",
        "   pass\n",
        "else:\n",
        "  files.download(anim_file)\n",
        "  files.download(g_name)\n",
        "  files.download(d_name)\n",
        "  files.download('lsgan_training_history.png')"
      ],
      "execution_count": 0,
      "outputs": []
    },
    {
      "cell_type": "code",
      "metadata": {
        "id": "6WfEdt0mqSl2",
        "colab_type": "code",
        "colab": {}
      },
      "source": [
        ""
      ],
      "execution_count": 0,
      "outputs": []
    }
  ]
}